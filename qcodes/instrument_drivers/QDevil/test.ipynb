{
 "cells": [
  {
   "cell_type": "code",
   "execution_count": 5,
   "metadata": {},
   "outputs": [
    {
     "data": {
      "text/plain": [
       "array([ 1,  2,  3,  4,  5,  6,  7,  8,  9, 10, 11, 12, 13, 14, 15, 16, 17,\n",
       "       18, 19, 20, 21, 22, 23, 24, 26, 27, 28, 29, 30, 31, 32, 33, 34, 35,\n",
       "       36, 37, 38, 39, 40, 41, 42, 43, 44, 45, 46, 47, 48, 50])"
      ]
     },
     "execution_count": 5,
     "metadata": {},
     "output_type": "execute_result"
    }
   ],
   "source": [
    "import numpy as np\n",
    "\n",
    "x = np.linspace(1, 24, 24, dtype=int)\n",
    "y = np.linspace(26,50, 24, dtype = int)\n",
    "\n",
    "x = np.concatenate((x, y))\n",
    "\n",
    "x"
   ]
  },
  {
   "cell_type": "code",
   "execution_count": 6,
   "metadata": {},
   "outputs": [
    {
     "data": {
      "text/plain": [
       "{'1': np.int64(1),\n",
       " '2': np.int64(2),\n",
       " '3': np.int64(3),\n",
       " '4': np.int64(4),\n",
       " '5': np.int64(5),\n",
       " '6': np.int64(6),\n",
       " '7': np.int64(7),\n",
       " '8': np.int64(8),\n",
       " '9': np.int64(9),\n",
       " '10': np.int64(10),\n",
       " '11': np.int64(11),\n",
       " '12': np.int64(12),\n",
       " '13': np.int64(13),\n",
       " '14': np.int64(14),\n",
       " '15': np.int64(15),\n",
       " '16': np.int64(16),\n",
       " '17': np.int64(17),\n",
       " '18': np.int64(18),\n",
       " '19': np.int64(19),\n",
       " '20': np.int64(20),\n",
       " '21': np.int64(21),\n",
       " '22': np.int64(22),\n",
       " '23': np.int64(23),\n",
       " '26': np.int64(26),\n",
       " '27': np.int64(27),\n",
       " '28': np.int64(28),\n",
       " '29': np.int64(29),\n",
       " '30': np.int64(30),\n",
       " '31': np.int64(31),\n",
       " '32': np.int64(32),\n",
       " '33': np.int64(33),\n",
       " '34': np.int64(34),\n",
       " '35': np.int64(35),\n",
       " '36': np.int64(36),\n",
       " '37': np.int64(37),\n",
       " '38': np.int64(38),\n",
       " '39': np.int64(39),\n",
       " '40': np.int64(40),\n",
       " '41': np.int64(41),\n",
       " '42': np.int64(42),\n",
       " '43': np.int64(43),\n",
       " '44': np.int64(44),\n",
       " '45': np.int64(45),\n",
       " '46': np.int64(46),\n",
       " '47': np.int64(47),\n",
       " '48': np.int64(48),\n",
       " '49': np.int64(49)}"
      ]
     },
     "execution_count": 6,
     "metadata": {},
     "output_type": "execute_result"
    }
   ],
   "source": [
    "relay_lines = 24\n",
    "lines = np.concatenate((np.arange(1, relay_lines), np.arange(26, 26 + relay_lines)))\n",
    "line_names = dict(zip(map(str, lines), lines))\n",
    "\n",
    "line_names"
   ]
  },
  {
   "cell_type": "code",
   "execution_count": 1,
   "metadata": {},
   "outputs": [
    {
     "name": "stdout",
     "output_type": "stream",
     "text": [
      "2 3\n",
      "4 5\n",
      "6 7\n"
     ]
    }
   ],
   "source": [
    "state = [(2,3),(4,5),(6,7)]\n",
    "\n",
    "for line, tap in state:\n",
    "    print(line, tap)"
   ]
  },
  {
   "cell_type": "code",
   "execution_count": null,
   "metadata": {},
   "outputs": [],
   "source": []
  }
 ],
 "metadata": {
  "kernelspec": {
   "display_name": "qcodes",
   "language": "python",
   "name": "python3"
  },
  "language_info": {
   "codemirror_mode": {
    "name": "ipython",
    "version": 3
   },
   "file_extension": ".py",
   "mimetype": "text/x-python",
   "name": "python",
   "nbconvert_exporter": "python",
   "pygments_lexer": "ipython3",
   "version": "3.13.2"
  }
 },
 "nbformat": 4,
 "nbformat_minor": 2
}
